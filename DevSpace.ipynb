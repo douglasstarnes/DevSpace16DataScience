{
 "cells": [
  {
   "cell_type": "markdown",
   "metadata": {},
   "source": [
    "The np alias is often used in place of the numpy module"
   ]
  },
  {
   "cell_type": "code",
   "execution_count": 1,
   "metadata": {
    "collapsed": true
   },
   "outputs": [],
   "source": [
    "import numpy as np"
   ]
  },
  {
   "cell_type": "markdown",
   "metadata": {},
   "source": [
    "## ndarray\n",
    "\n",
    "Instead of a list, numpy uses an ndarray (nd for n-dimensional).  There are special numpy functions to create these or can be create from a Python list."
   ]
  },
  {
   "cell_type": "code",
   "execution_count": 2,
   "metadata": {
    "collapsed": false
   },
   "outputs": [
    {
     "data": {
      "text/plain": [
       "numpy.ndarray"
      ]
     },
     "execution_count": 2,
     "metadata": {},
     "output_type": "execute_result"
    }
   ],
   "source": [
    "primes = [2,3,5,7,11,13,17,23]\n",
    "nd_primes = np.array(primes)\n",
    "type(nd_primes)"
   ]
  },
  {
   "cell_type": "markdown",
   "metadata": {},
   "source": [
    "The ndarray has special attributes such as a shape."
   ]
  },
  {
   "cell_type": "code",
   "execution_count": 3,
   "metadata": {
    "collapsed": false
   },
   "outputs": [
    {
     "data": {
      "text/plain": [
       "(8,)"
      ]
     },
     "execution_count": 3,
     "metadata": {},
     "output_type": "execute_result"
    }
   ],
   "source": [
    "nd_primes.shape"
   ]
  },
  {
   "cell_type": "code",
   "execution_count": 4,
   "metadata": {
    "collapsed": false
   },
   "outputs": [
    {
     "data": {
      "text/plain": [
       "(2, 4)"
      ]
     },
     "execution_count": 4,
     "metadata": {},
     "output_type": "execute_result"
    }
   ],
   "source": [
    "twoDprimes = [[2,3,5,7],[11,13,17,23]]\n",
    "np_twoDprimes = np.array(twoDprimes)\n",
    "np_twoDprimes.shape"
   ]
  },
  {
   "cell_type": "markdown",
   "metadata": {},
   "source": [
    "The `reshape` method can be used to change the shape of an existing ndarray.  However, I can't remember whether the method takes a variable number of integers, or a tuple of integers to represent the new shape.  So I'll use the built-in Jupyter notebook help."
   ]
  },
  {
   "cell_type": "code",
   "execution_count": 5,
   "metadata": {
    "collapsed": false
   },
   "outputs": [],
   "source": [
    "np.reshape?"
   ]
  },
  {
   "cell_type": "code",
   "execution_count": 6,
   "metadata": {
    "collapsed": false
   },
   "outputs": [
    {
     "data": {
      "text/plain": [
       "array([[ 2,  3],\n",
       "       [ 5,  7],\n",
       "       [11, 13],\n",
       "       [17, 23]])"
      ]
     },
     "execution_count": 6,
     "metadata": {},
     "output_type": "execute_result"
    }
   ],
   "source": [
    "nd_primes.reshape((4,2))"
   ]
  },
  {
   "cell_type": "code",
   "execution_count": 7,
   "metadata": {
    "collapsed": false
   },
   "outputs": [
    {
     "data": {
      "text/plain": [
       "(8,)"
      ]
     },
     "execution_count": 7,
     "metadata": {},
     "output_type": "execute_result"
    }
   ],
   "source": [
    "nd_primes.shape"
   ]
  },
  {
   "cell_type": "markdown",
   "metadata": {},
   "source": [
    "Using the + operator with Python lists will concatenate them"
   ]
  },
  {
   "cell_type": "code",
   "execution_count": 8,
   "metadata": {
    "collapsed": false,
    "scrolled": true
   },
   "outputs": [
    {
     "data": {
      "text/plain": [
       "[2, 3, 5, 7, 11, 13, 17, 23, 2, 3, 5, 7, 11, 13, 17, 23]"
      ]
     },
     "execution_count": 8,
     "metadata": {},
     "output_type": "execute_result"
    }
   ],
   "source": [
    "primes + primes"
   ]
  },
  {
   "cell_type": "markdown",
   "metadata": {},
   "source": [
    "With an ndarray the + operator will perform an element-wise addition."
   ]
  },
  {
   "cell_type": "code",
   "execution_count": 9,
   "metadata": {
    "collapsed": false
   },
   "outputs": [
    {
     "data": {
      "text/plain": [
       "array([ 4,  6, 10, 14, 22, 26, 34, 46])"
      ]
     },
     "execution_count": 9,
     "metadata": {},
     "output_type": "execute_result"
    }
   ],
   "source": [
    "nd_primes + nd_primes"
   ]
  },
  {
   "cell_type": "markdown",
   "metadata": {},
   "source": [
    "If you need to concatenate two ndarrays, use the `np.concatenate` function\n",
    "\n",
    "This works with other operators as well."
   ]
  },
  {
   "cell_type": "code",
   "execution_count": 10,
   "metadata": {
    "collapsed": false
   },
   "outputs": [
    {
     "data": {
      "text/plain": [
       "array([ 1.,  1.,  1.,  1.,  1.,  1.,  1.,  1.])"
      ]
     },
     "execution_count": 10,
     "metadata": {},
     "output_type": "execute_result"
    }
   ],
   "source": [
    "nd_primes / nd_primes"
   ]
  },
  {
   "cell_type": "markdown",
   "metadata": {},
   "source": [
    "Adding a single value will perform the function on every element in the array."
   ]
  },
  {
   "cell_type": "code",
   "execution_count": 11,
   "metadata": {
    "collapsed": false
   },
   "outputs": [
    {
     "data": {
      "text/plain": [
       "array([ 3,  4,  6,  8, 12, 14, 18, 24])"
      ]
     },
     "execution_count": 11,
     "metadata": {},
     "output_type": "execute_result"
    }
   ],
   "source": [
    "nd_primes + 1"
   ]
  },
  {
   "cell_type": "markdown",
   "metadata": {},
   "source": [
    "So this common introductory programming challenge:"
   ]
  },
  {
   "cell_type": "code",
   "execution_count": 12,
   "metadata": {
    "collapsed": true
   },
   "outputs": [],
   "source": [
    "squares = []\n",
    "for i in range(10):\n",
    "    squares.append(pow(i, 2.0))"
   ]
  },
  {
   "cell_type": "markdown",
   "metadata": {},
   "source": [
    "And this one:"
   ]
  },
  {
   "cell_type": "code",
   "execution_count": 13,
   "metadata": {
    "collapsed": true
   },
   "outputs": [],
   "source": [
    "squares_comp = [pow(i, 2.0) for i in range(10)]"
   ]
  },
  {
   "cell_type": "markdown",
   "metadata": {},
   "source": [
    "Are now simplified to:"
   ]
  },
  {
   "cell_type": "code",
   "execution_count": 14,
   "metadata": {
    "collapsed": true
   },
   "outputs": [],
   "source": [
    "squares_np = np.arange(10) ** 2.0"
   ]
  },
  {
   "cell_type": "markdown",
   "metadata": {},
   "source": [
    "## Indexing\n",
    "\n",
    "Indexing with a multi dimensional data structure needed some special features.  A single dimension ndarray will be indexed the same as a Python list."
   ]
  },
  {
   "cell_type": "code",
   "execution_count": 15,
   "metadata": {
    "collapsed": false
   },
   "outputs": [
    {
     "data": {
      "text/plain": [
       "5"
      ]
     },
     "execution_count": 15,
     "metadata": {},
     "output_type": "execute_result"
    }
   ],
   "source": [
    "nd_primes[2]"
   ]
  },
  {
   "cell_type": "markdown",
   "metadata": {},
   "source": [
    "The ndarray can have a index for each dimension:"
   ]
  },
  {
   "cell_type": "code",
   "execution_count": 16,
   "metadata": {
    "collapsed": false
   },
   "outputs": [
    {
     "data": {
      "text/plain": [
       "array([[[ 0,  1],\n",
       "        [ 2,  3],\n",
       "        [ 4,  5]],\n",
       "\n",
       "       [[ 6,  7],\n",
       "        [ 8,  9],\n",
       "        [10, 11]],\n",
       "\n",
       "       [[12, 13],\n",
       "        [14, 15],\n",
       "        [16, 17]],\n",
       "\n",
       "       [[18, 19],\n",
       "        [20, 21],\n",
       "        [22, 23]]])"
      ]
     },
     "execution_count": 16,
     "metadata": {},
     "output_type": "execute_result"
    }
   ],
   "source": [
    "M = np.arange(24)\n",
    "N = M.reshape((4, 3, 2))\n",
    "N"
   ]
  },
  {
   "cell_type": "code",
   "execution_count": 17,
   "metadata": {
    "collapsed": false
   },
   "outputs": [
    {
     "data": {
      "text/plain": [
       "array([[ 6,  7],\n",
       "       [ 8,  9],\n",
       "       [10, 11]])"
      ]
     },
     "execution_count": 17,
     "metadata": {},
     "output_type": "execute_result"
    }
   ],
   "source": [
    "N[1]"
   ]
  },
  {
   "cell_type": "code",
   "execution_count": 18,
   "metadata": {
    "collapsed": false
   },
   "outputs": [
    {
     "data": {
      "text/plain": [
       "array([6, 7])"
      ]
     },
     "execution_count": 18,
     "metadata": {},
     "output_type": "execute_result"
    }
   ],
   "source": [
    "N[1,0]"
   ]
  },
  {
   "cell_type": "code",
   "execution_count": 19,
   "metadata": {
    "collapsed": false
   },
   "outputs": [
    {
     "data": {
      "text/plain": [
       "7"
      ]
     },
     "execution_count": 19,
     "metadata": {},
     "output_type": "execute_result"
    }
   ],
   "source": [
    "N[1,0,1]"
   ]
  },
  {
   "cell_type": "code",
   "execution_count": 20,
   "metadata": {
    "collapsed": false
   },
   "outputs": [
    {
     "data": {
      "text/plain": [
       "array([[ 2,  3],\n",
       "       [ 8,  9],\n",
       "       [14, 15],\n",
       "       [20, 21]])"
      ]
     },
     "execution_count": 20,
     "metadata": {},
     "output_type": "execute_result"
    }
   ],
   "source": [
    "N[:,1]"
   ]
  },
  {
   "cell_type": "code",
   "execution_count": 21,
   "metadata": {
    "collapsed": false
   },
   "outputs": [
    {
     "data": {
      "text/plain": [
       "array([[ 0,  2,  4],\n",
       "       [ 6,  8, 10],\n",
       "       [12, 14, 16],\n",
       "       [18, 20, 22]])"
      ]
     },
     "execution_count": 21,
     "metadata": {},
     "output_type": "execute_result"
    }
   ],
   "source": [
    "N[:,:,0]"
   ]
  },
  {
   "cell_type": "code",
   "execution_count": 22,
   "metadata": {
    "collapsed": false
   },
   "outputs": [
    {
     "data": {
      "text/plain": [
       "array([[[ 0,  1],\n",
       "        [ 2,  3],\n",
       "        [ 4,  5]],\n",
       "\n",
       "       [[ 6,  7],\n",
       "        [ 8,  9],\n",
       "        [10, 11]],\n",
       "\n",
       "       [[12, 13],\n",
       "        [14, 15],\n",
       "        [16, 17]],\n",
       "\n",
       "       [[18, 19],\n",
       "        [20, 21],\n",
       "        [22, 23]]])"
      ]
     },
     "execution_count": 22,
     "metadata": {},
     "output_type": "execute_result"
    }
   ],
   "source": [
    "N[:]"
   ]
  },
  {
   "cell_type": "markdown",
   "metadata": {},
   "source": [
    "## matplotlib\n",
    "\n",
    "The `normal` function creates a 'standard' or bell-shaped distribution."
   ]
  },
  {
   "cell_type": "code",
   "execution_count": 23,
   "metadata": {
    "collapsed": false
   },
   "outputs": [
    {
     "data": {
      "text/plain": [
       "array([ -1.60219540e+00,  -1.37219744e-01,   6.00337076e-01,\n",
       "         1.64350100e-01,  -2.35334454e+00,  -3.77620480e-01,\n",
       "        -1.23561013e+00,   2.14148210e+00,   3.23148181e-02,\n",
       "        -4.99999083e-01,  -7.16469077e-02,   1.15262494e+00,\n",
       "        -2.75665019e-01,  -9.60664606e-01,  -9.64118926e-02,\n",
       "         5.21643538e-01,  -2.31302802e-01,  -6.56823070e-01,\n",
       "         4.26663778e-01,   7.23556884e-01,   6.19401051e-01,\n",
       "         1.56319384e-01,  -6.47733672e-01,  -4.68097968e-02,\n",
       "         2.36120795e-01,   5.60383242e-01,  -1.63209011e+00,\n",
       "        -1.90215973e-01,  -7.29080808e-01,  -1.55427349e-01,\n",
       "         2.72528549e-01,  -5.30549840e-01,   1.35442463e+00,\n",
       "        -1.62881484e-03,   4.19095355e-01,  -8.33686171e-01,\n",
       "         2.81864321e-01,  -1.14702312e+00,  -1.40702439e+00,\n",
       "        -6.12033028e-01,   8.61093861e-01,  -2.73844279e-01,\n",
       "        -1.63203087e-01,  -1.21924026e+00,   8.70318511e-02,\n",
       "        -3.76636702e-01,   1.87053584e+00,   1.90831893e+00,\n",
       "        -1.00404548e+00,   8.42421554e-01,  -1.55971006e-01,\n",
       "         4.54512054e-01,   1.60334803e+00,   1.54635640e-01,\n",
       "        -1.26059282e+00,  -4.80872851e-02,  -6.94315699e-01,\n",
       "        -3.21977725e-02,   8.71551836e-01,   1.22609284e+00,\n",
       "         2.33635363e-02,   1.35391524e+00,   1.04041193e-01,\n",
       "         5.16524369e-02,   1.02965890e-01,   3.63417050e-01,\n",
       "         5.21131023e-01,   2.53737554e+00,  -1.77057355e+00,\n",
       "         8.84960988e-01,  -7.07118504e-01,   5.77092817e-01,\n",
       "        -4.58985905e-01,  -2.14021676e+00,   5.85171695e-01,\n",
       "         9.99796689e-01,   9.31183020e-01,   3.44699633e-01,\n",
       "         1.14737690e+00,   1.00577112e-01,  -4.10017531e-01,\n",
       "         7.98225228e-01,   1.99500794e-01,  -2.28886552e-02,\n",
       "        -2.35168095e-01,   9.09044259e-01,   1.71215972e-01,\n",
       "         1.71294518e+00,   2.49156225e-01,   9.92055635e-02,\n",
       "        -1.39871869e+00,  -1.11074450e+00,   1.99956415e+00,\n",
       "         9.85744040e-01,   2.73706518e+00,   1.48427645e+00,\n",
       "         1.25871166e+00,   1.38304954e+00,  -1.66114181e+00,\n",
       "        -1.64810356e-01,   7.75558566e-01,  -5.65182881e-01,\n",
       "        -6.47629938e-01,   4.45345834e-01,  -1.25595450e+00,\n",
       "         3.85701434e-01,   3.85555054e-03,  -9.45273941e-01,\n",
       "         3.72166138e-01,  -1.12567525e+00,   2.09688109e-02,\n",
       "        -2.55347557e-01,   4.48660881e-01,  -1.19844785e-01,\n",
       "        -2.58416021e-01,  -1.70724360e-01,   1.11602770e+00,\n",
       "        -8.17969198e-01,  -1.41683939e+00,   1.20307917e+00,\n",
       "         5.39710743e-01,  -1.44521803e+00,   4.96848516e-01,\n",
       "        -6.09433307e-01,  -7.00857320e-01,  -1.83983522e+00,\n",
       "        -1.44522523e+00,   4.74993166e-02,   1.14055609e+00,\n",
       "         2.14358230e-01,   2.02277017e-01,   1.98561449e+00,\n",
       "         1.19191482e+00,  -3.70522905e-01,   1.30547614e+00,\n",
       "         1.17053152e+00,  -4.66513383e-02,  -2.05805784e+00,\n",
       "         1.09514372e+00,   4.32401708e-01,   8.84876561e-01,\n",
       "        -5.66046537e-02,   7.72571289e-01,   1.14345649e+00,\n",
       "         3.23754970e-01,  -1.45904384e+00,  -2.32857494e+00,\n",
       "         3.21229645e+00,  -4.09111081e-01,  -1.68554394e+00,\n",
       "        -1.19986464e-02,   3.70235571e-01,   2.23316524e+00,\n",
       "        -1.83472548e+00,  -4.24977356e-01,  -1.02634883e+00,\n",
       "        -1.34030470e-01,  -9.22263445e-02,   2.91293322e+00,\n",
       "        -4.07595684e-01,  -1.06665814e+00,   2.76534641e-02,\n",
       "        -1.33663811e+00,   4.94014066e-01,   4.52350332e-01,\n",
       "        -1.01518819e-01,  -1.09303421e+00,  -5.72446730e-01,\n",
       "        -9.09467384e-01,   1.74069466e+00,  -1.06784882e-01,\n",
       "         2.43726873e-02,  -1.29386057e+00,  -2.16256053e-01,\n",
       "         1.57506756e+00,   1.09564777e+00,  -1.40100193e+00,\n",
       "         1.80463996e-02,   1.41095867e+00,  -1.24595550e+00,\n",
       "         3.92058194e-01,  -1.71918085e-01,  -9.52734354e-01,\n",
       "        -1.39679200e-03,  -8.35295996e-01,  -2.26984267e+00,\n",
       "        -5.27099359e-01,   1.88998921e+00,   4.20799949e-01,\n",
       "         8.73266064e-01,  -5.11281833e-01,  -6.25062160e-01,\n",
       "         6.90597475e-01,   3.29886726e-01,   7.65780525e-01,\n",
       "         4.96115637e-01,  -2.00213165e+00,  -9.02940439e-01,\n",
       "        -1.05725325e+00,  -7.90520175e-01,  -1.34879720e+00,\n",
       "        -1.18725954e+00,   2.58729899e-01,  -1.20163417e+00,\n",
       "        -1.76796175e+00,  -9.44056012e-01,   7.11078595e-01,\n",
       "         5.66634109e-01,  -6.09412185e-01,   5.55141327e-03,\n",
       "        -1.91230512e+00,   3.77745960e-01,  -9.90954972e-01,\n",
       "        -1.87334497e-02,   2.57691283e-01,   1.55045512e+00,\n",
       "         5.79233389e-01,   3.57223239e-01,   4.71280084e-01,\n",
       "        -1.30867345e+00,   4.39431466e-01,   6.79020146e-02,\n",
       "        -1.78885266e+00,  -4.29502520e-02,  -5.45667453e-01,\n",
       "         5.30613520e-01,   1.80507694e+00,   9.24863155e-01,\n",
       "        -5.18594837e-01,  -1.26749973e+00,   9.53311794e-03,\n",
       "         5.82283798e-01,  -8.60910250e-01,   1.08760827e-01,\n",
       "         3.55254757e-01,   4.69064974e-01,   5.63186981e-02,\n",
       "         1.65687097e+00,  -8.18266841e-01,  -7.96304255e-01,\n",
       "         4.70992288e-01,  -5.04886012e-01,   1.60881715e+00,\n",
       "        -1.33202163e+00,  -5.49487507e-01,  -8.45321797e-03,\n",
       "         3.24683914e-01,  -1.70052016e+00,  -7.97781806e-01,\n",
       "        -1.64817205e+00,   1.14325447e+00,  -5.37047540e-01,\n",
       "         1.50509714e-01,  -2.95521400e-01,   2.45186614e+00,\n",
       "         1.08483832e+00,  -4.20339000e-01,   1.07606102e+00,\n",
       "         1.25999690e-02,  -2.99158893e-01,  -1.21987767e+00,\n",
       "         1.32992217e+00,   1.49225033e+00,   7.64624328e-01,\n",
       "         1.79051338e+00,  -1.03202257e-01,   7.15092722e-01,\n",
       "         1.32861498e+00,   2.70963360e+00,   1.73017850e-01,\n",
       "        -5.60867456e-01,   4.99220650e-01,  -6.51323103e-01,\n",
       "        -8.02622556e-01,  -7.69938977e-01,  -7.03437397e-01,\n",
       "         1.41974869e-01,   1.37234528e-01,   1.02134294e+00,\n",
       "         1.57928996e-01,  -8.14228474e-01,  -1.06499297e+00,\n",
       "        -7.89531543e-01,  -8.56876291e-01,  -1.41801827e-01,\n",
       "        -1.30834388e+00,   6.28646166e-01,   2.78127360e-01,\n",
       "         8.42225971e-01,   1.93430123e-01,   1.71959523e-01,\n",
       "        -4.11379040e-01,   9.96787004e-01,   2.56422259e+00,\n",
       "         5.58589728e-01,  -4.53208721e-01,  -7.01824865e-01,\n",
       "        -1.21929379e-01,   1.68600592e+00,   1.65472365e+00,\n",
       "        -2.57580275e-01,   1.43692482e+00,  -3.35102622e-01,\n",
       "        -4.61245718e-01,  -6.09524472e-01,  -6.12468602e-01,\n",
       "         1.49946122e+00,  -1.10515832e+00,  -2.37961500e-01,\n",
       "        -8.55554593e-01,  -1.01441520e+00,   1.36466980e+00,\n",
       "        -3.36814670e-02,  -5.86716518e-01,  -1.48628892e+00,\n",
       "        -1.43737587e+00,   8.83360003e-01,  -2.34610873e-01,\n",
       "         7.96410819e-01,   1.09295561e+00,   1.94666103e-02,\n",
       "        -2.00281194e+00,   1.30301766e-01,   2.67294298e-01,\n",
       "        -1.18384894e+00,   7.72973049e-01,   2.42090968e-01,\n",
       "        -2.25192807e-01,  -2.64996880e-01,  -2.25039985e+00,\n",
       "        -1.54205727e+00,  -9.34210487e-01,  -5.60261412e-01,\n",
       "         5.42202753e-01,   4.04726070e-01,   1.16478709e-01,\n",
       "        -4.84357588e-01,  -2.51104343e-01,  -4.53093087e-01,\n",
       "         7.43340688e-02,   7.98224639e-01,  -1.27701818e+00,\n",
       "         3.72644573e-01,   4.60806189e-01,   2.18914450e-01,\n",
       "         2.11753589e+00,  -2.28335191e-01,  -8.86533830e-01,\n",
       "        -4.44857166e-01,  -5.03822867e-01,   1.21734806e-02,\n",
       "         2.92443664e+00,   5.30170535e-01,  -1.10568584e+00,\n",
       "        -1.01579024e+00,   9.00861732e-01,   1.93817491e+00,\n",
       "         1.44338779e+00,  -7.11319477e-01,  -1.06409546e+00,\n",
       "         4.23339325e-01,   1.49832688e+00,   1.42872005e-01,\n",
       "        -2.19777097e-01,   3.77288037e-01,   1.29151427e-01,\n",
       "        -1.56441370e+00,  -1.37945338e+00,  -1.25723792e+00,\n",
       "        -2.23104930e+00,  -4.60569140e-01,   1.04280226e+00,\n",
       "        -1.09635200e-01,  -3.68499994e-01,  -6.33883519e-01,\n",
       "        -1.06769229e+00,  -1.05742554e+00,  -3.50959701e-01,\n",
       "        -1.25897768e+00,  -6.96584692e-01,   9.79005918e-01,\n",
       "        -3.54599692e-01,  -1.99251870e-01,  -2.18559212e-01,\n",
       "         1.40076816e-01,   8.93902768e-02,  -4.09350115e-01,\n",
       "        -6.02098933e-01,  -1.34491370e-01,  -1.37212647e+00,\n",
       "         4.65309084e-01,   1.12882375e+00,   7.51277461e-01,\n",
       "        -3.93542361e-01,  -1.74185305e+00,  -7.22235351e-01,\n",
       "         1.77832636e+00,  -1.33134358e+00,   4.69923057e-01,\n",
       "        -1.43486137e+00,   3.95183879e-01,  -6.01212458e-01,\n",
       "        -1.51009051e-01,   1.33271284e+00,   1.45294871e+00,\n",
       "         5.27596588e-01,  -2.47781529e-01,   2.05524644e-01,\n",
       "        -3.51398027e-01,   2.84767328e-01,   4.00600804e-01,\n",
       "        -2.17991127e+00,  -9.71825949e-01,  -7.35033997e-01,\n",
       "         1.14079145e+00,   6.00182908e-01,  -2.41739372e-01,\n",
       "         5.28947682e-01,   2.04250476e-01,   1.01933434e+00,\n",
       "         1.67986285e+00,  -9.32127781e-01,   4.85221183e-01,\n",
       "         4.13602061e-01,   6.62632135e-02,  -1.57091096e-01,\n",
       "         5.24827003e-01,  -4.58888730e-01,   6.70600587e-01,\n",
       "         1.18003857e+00,   3.64897450e-01,   6.24858123e-01,\n",
       "        -6.56255819e-02,  -8.84636521e-01,   6.09345684e-01,\n",
       "         5.58614748e-01,  -3.40781259e-02,   7.04849355e-01,\n",
       "        -5.00644616e-01,   7.03841177e-01,  -1.46434685e-01,\n",
       "        -7.82797185e-01,  -1.46356325e+00,   1.15145802e+00,\n",
       "        -1.31515531e-01,   1.01187855e+00,  -3.51788613e-01,\n",
       "        -7.53867743e-01,  -1.57304049e+00,   1.68302435e+00,\n",
       "         5.42112630e-01,  -5.23555233e-02,   1.26942145e+00,\n",
       "        -2.16772936e-01,  -5.47504769e-01,   6.54626028e-01,\n",
       "         2.91525982e-01,   2.24169909e-01,  -2.98624416e-01,\n",
       "         3.97051223e-02,   9.06709895e-02,   2.74917842e+00,\n",
       "        -1.06314253e+00,  -1.99708365e-01,   1.52510935e-01,\n",
       "        -1.50846093e+00,   1.25520027e+00,   4.23053932e-01,\n",
       "        -2.09695538e+00,   3.17041959e-01,  -1.26121473e-01,\n",
       "        -7.75448102e-01,  -1.16258098e+00,   6.49854992e-01,\n",
       "         9.64160614e-01,   3.56153994e-01,   1.81979890e-01,\n",
       "        -2.68806617e-01,  -3.32657525e-01,   1.23686964e+00,\n",
       "        -7.59210376e-02,  -8.89379650e-01,   1.65696581e+00,\n",
       "        -2.18866687e-01,  -1.10143645e+00,  -1.95167270e-01,\n",
       "         4.71064205e-01,  -4.79380532e-01,   1.16800770e+00,\n",
       "         2.26596651e+00,  -2.43140604e-01,  -1.45831846e-01,\n",
       "         1.38559171e-01,  -3.22158213e-01,  -1.15982425e-01,\n",
       "         1.51873115e+00,   4.08952465e-01,   1.33295965e-01,\n",
       "        -3.52219824e-01,  -3.59036640e-01,  -3.13348354e-01,\n",
       "         1.81648401e-01,   1.22246651e-02,   1.72652630e+00,\n",
       "        -4.42026692e-01,  -3.92843808e-01,   1.45493313e+00,\n",
       "        -1.20282837e-01,   4.00504544e-01,   8.87191519e-01,\n",
       "         9.00188289e-01,   7.79267545e-02,   1.09785371e+00,\n",
       "        -1.21881080e+00,   2.36594093e+00,  -8.20107287e-02,\n",
       "        -6.67916657e-01,  -7.64877392e-01,  -2.32047104e+00,\n",
       "        -7.03719268e-01,  -2.12051993e-01,  -4.11872009e-01,\n",
       "         1.26154852e+00,   3.92132931e-01,   1.01729491e+00,\n",
       "        -1.20751065e+00,   1.05216028e+00,  -5.52220630e-01,\n",
       "        -3.95193453e-01,  -7.54359367e-01,  -2.42184740e+00,\n",
       "         1.55222080e+00,  -5.24167779e-01,   6.97760609e-01,\n",
       "         8.23102367e-01,  -8.23208646e-01,  -1.47344480e+00,\n",
       "        -3.58666328e-02,   2.97206299e-01,   8.88645767e-01,\n",
       "        -2.61925225e-01,   4.01223893e-02,  -3.51566739e-01,\n",
       "         8.37961151e-01,   1.32413441e+00,   1.69161056e+00,\n",
       "         1.05415584e+00,   8.72484650e-01,  -1.40537161e-01,\n",
       "         3.00681302e-01,   2.26815969e-01,  -4.96152118e-02,\n",
       "        -8.64630970e-01,  -1.58719705e+00,   6.35520553e-02,\n",
       "        -2.46409527e-01,  -1.51285062e+00,   6.25069704e-02,\n",
       "        -8.84089752e-01,  -1.14047824e+00,   3.84398499e-01,\n",
       "        -1.09632633e+00,  -8.24153942e-01,   2.42816117e+00,\n",
       "         1.82561009e-01,  -8.27620420e-01,  -1.80069134e+00,\n",
       "         3.04683313e-01,  -1.48400605e-01,   4.65432471e-01,\n",
       "        -3.74431443e-01,   7.35026452e-01,  -1.14518837e+00,\n",
       "         1.42811814e+00,   2.49405350e+00,  -9.57059239e-01,\n",
       "         6.56566861e-01,  -4.44848797e-01,  -1.00179015e+00,\n",
       "         1.44505351e+00,   3.80747753e-01,   5.81169924e-01,\n",
       "         1.48200873e-02,   7.98406575e-01,  -1.33609822e-01,\n",
       "         6.01335605e-01,   1.44606673e-01,   1.85445748e+00,\n",
       "         1.80237938e+00,  -8.35305981e-01,   1.21865880e-01,\n",
       "         8.09727533e-01,  -1.16027389e+00,  -1.82361334e+00,\n",
       "        -5.98368503e-01,  -1.07896690e+00,  -1.77800441e+00,\n",
       "        -8.85002366e-01,  -6.81715641e-01,  -2.89517917e-01,\n",
       "         8.10590348e-01,   1.46311486e-01,   8.95448179e-01,\n",
       "         3.93555629e-01,  -3.50614587e-01,   2.02345648e-01,\n",
       "        -1.84448018e+00,  -1.72588360e-01,   1.31652269e+00,\n",
       "         2.01550961e+00,  -1.06111015e+00,  -3.81787111e-01,\n",
       "        -2.33950781e-01,   8.75333734e-01,   6.29085919e-01,\n",
       "        -2.60902905e-01,   1.40051088e+00,   3.92649372e-01,\n",
       "         1.22089094e+00,   9.42453679e-01,  -1.32187110e+00,\n",
       "         3.18260680e+00,   9.65727045e-01,  -8.49964999e-01,\n",
       "        -7.70909592e-01,  -1.04290763e+00,  -1.40827491e-01,\n",
       "        -1.16071194e+00,   8.11146433e-01,  -1.25769623e+00,\n",
       "        -1.38062670e+00,   1.03102953e+00,   3.09012323e-01,\n",
       "         1.57624395e+00,  -2.74979198e+00,  -3.24628612e-01,\n",
       "        -1.01787061e+00,   1.91103169e-01,   1.14372403e+00,\n",
       "        -8.63871825e-01,  -4.70764079e-01,   4.47589982e-01,\n",
       "         1.25078790e+00,  -1.52412326e+00,   7.72798823e-01,\n",
       "         1.69366858e-01,   9.73518121e-01,  -3.19436140e-01,\n",
       "        -9.73058278e-01,  -3.16660574e-01,   1.18232655e+00,\n",
       "        -1.57742250e+00,   5.60491465e-01,   1.95486404e-01,\n",
       "        -2.16050587e+00,   2.16303282e+00,   5.34215349e-01,\n",
       "        -3.54313510e-01,  -2.30613152e-01,  -1.26896627e+00,\n",
       "         1.80189397e-01,  -1.62721071e+00,  -1.03823989e+00,\n",
       "        -6.38893643e-01,   3.95537633e-01,   4.83368366e-01,\n",
       "         1.28854201e+00,   9.69842358e-01,   6.31337692e-01,\n",
       "         4.68274911e-01,   6.96006424e-02,  -4.44136995e-01,\n",
       "        -1.27316303e+00,  -8.98574270e-01,   4.44126634e-01,\n",
       "         1.38140977e+00,  -1.39395679e-01,  -1.46929210e+00,\n",
       "         6.38609488e-01,  -1.98794863e+00,  -1.75838740e-01,\n",
       "         6.24967496e-01,   9.90187979e-01,   8.98604063e-01,\n",
       "         9.00932448e-01,  -3.93010076e-01,  -9.00544127e-01,\n",
       "        -1.21057607e+00,   7.74975669e-01,   1.25008962e+00,\n",
       "         1.18736703e+00,  -1.99224738e+00,  -1.72835002e+00,\n",
       "         4.76102582e-01,  -5.50146202e-01,   2.06886920e+00,\n",
       "        -1.59662496e+00,   1.31376829e+00,  -1.07586194e+00,\n",
       "        -1.25935941e+00,   9.91366242e-01,   1.41031079e-01,\n",
       "         6.13063231e-01,   1.29335942e+00,   9.12322916e-01,\n",
       "        -1.25061169e+00,  -5.73575707e-01,   1.26458076e+00,\n",
       "         1.86500471e-02,   2.45303969e-01,  -5.72697437e-01,\n",
       "         3.48544336e-01,   9.60035453e-01,   2.51398975e+00,\n",
       "         5.01960701e-01,  -4.39602851e-01,  -1.16556001e+00,\n",
       "        -2.59763421e-02,   7.51615931e-01,  -8.42186681e-01,\n",
       "         1.44142725e+00,  -1.22136009e-01,   3.67121137e-01,\n",
       "        -7.30235547e-01,  -1.55781627e+00,   4.46016168e-01,\n",
       "         5.33630341e-01,   8.08531354e-01,  -1.37324606e+00,\n",
       "         5.71930429e-01,  -3.70432857e-01,  -9.11372110e-01,\n",
       "         5.93747732e-01,  -1.67234430e+00,   2.06804293e+00,\n",
       "        -7.20499476e-01,  -2.81760668e-01,  -7.58011675e-01,\n",
       "         1.75991745e+00,   1.17025392e+00,  -3.02053857e-02,\n",
       "        -3.83049796e-01,  -2.61712509e+00,  -6.31502393e-01,\n",
       "        -5.53595047e-01,   9.81449532e-01,   1.18915350e+00,\n",
       "        -2.41745040e-01,  -4.66766889e-01,   1.79518668e-01,\n",
       "         1.31907749e-03,   3.29734522e-01,  -1.67378343e-01,\n",
       "         4.96050777e-01,   1.12414812e+00,  -1.34594557e+00,\n",
       "        -9.39389820e-02,   1.20767849e-02,   6.40730584e-01,\n",
       "         1.43085163e+00,   8.73488554e-01,  -6.19295979e-01,\n",
       "        -2.10189523e+00,  -2.96420409e-01,   9.49074846e-01,\n",
       "        -5.33434086e-01,   1.49258191e+00,   2.12960456e+00,\n",
       "        -1.62799098e+00,  -9.79267899e-01,   1.80844569e+00,\n",
       "         9.25166139e-01,  -4.57817371e-01,  -1.42000643e+00,\n",
       "        -7.19144902e-01,   1.44152681e+00,   1.07666852e+00,\n",
       "        -7.22659451e-01,  -1.41545026e+00,   4.27164059e-01,\n",
       "         4.01226741e-01,  -1.97019903e+00,  -3.77998533e-01,\n",
       "        -4.18803122e-01,   4.12455992e-01,  -2.82623310e-01,\n",
       "         7.58934436e-01,  -9.76803535e-01,   2.54616308e-01,\n",
       "         7.79618389e-02,  -9.24151398e-01,  -3.13085504e-01,\n",
       "        -2.41452190e-01,  -1.07520727e+00,  -7.66611186e-01,\n",
       "        -1.95835171e-03,  -8.04264126e-01,   1.84163329e-01,\n",
       "        -3.04036698e-01,   1.69698462e+00,   6.07921902e-01,\n",
       "        -1.48500636e-02,  -2.06830309e+00,   5.35026248e-01,\n",
       "         1.19643109e+00,   6.06927818e-01,  -7.30747722e-01,\n",
       "         2.63320060e-01,   2.47200274e+00,   1.99024562e+00,\n",
       "        -4.91024308e-01,  -1.99187312e+00,   5.74048047e-01,\n",
       "         1.80841874e+00,  -5.45361961e-01,  -8.37171028e-02,\n",
       "        -4.84899322e-01,  -4.79067133e-02,  -6.14451587e-01,\n",
       "        -3.22524267e-02,   6.99186480e-01,  -1.26883947e-01,\n",
       "         1.45589998e+00,   6.66364900e-01,   3.97539225e-01,\n",
       "         9.74519197e-01,  -6.98920469e-01,   9.96412379e-01,\n",
       "        -3.84453941e-01,  -7.77676234e-02,  -1.35983416e+00,\n",
       "        -1.49350858e+00,  -1.70914969e-01,   2.71805941e-01,\n",
       "        -1.38058774e+00,   5.37690569e-02,   4.09462063e-01,\n",
       "         1.06666364e-01,   1.82545443e+00,  -3.29011203e-01,\n",
       "        -7.91533882e-01,  -4.34975712e-01,   8.58555563e-01,\n",
       "         1.91267253e+00,   2.21176562e+00,  -4.40997313e-01,\n",
       "        -1.79504724e+00,   6.07954393e-02,   5.41356925e-01,\n",
       "        -2.16430937e-01,   9.88469197e-02,  -2.21743243e-01,\n",
       "         5.29501349e-01,  -2.33988369e+00,   1.82204726e-02,\n",
       "        -8.31150096e-02,  -1.16719587e+00,  -5.44404951e-02,\n",
       "        -2.91684033e-01,  -5.88570162e-01,  -2.01246235e-01,\n",
       "        -4.21257622e-01,  -8.38038005e-01,   8.96803241e-01,\n",
       "         6.07159008e-01,  -1.46037312e+00,   1.07678716e+00,\n",
       "         2.98052525e-01,  -3.83198459e-01,  -1.60004110e-01,\n",
       "         1.18946825e+00,  -7.37192680e-01,   6.31998399e-01,\n",
       "        -2.79334470e-01,   3.15842703e-01,   1.19220852e+00,\n",
       "         3.38288751e-01,  -5.30626760e-01,  -1.58687339e+00,\n",
       "         9.81264549e-01,   4.62322455e-01,   2.48890887e-01,\n",
       "         3.83244772e-02,  -9.98961225e-01,  -6.60516132e-01,\n",
       "         1.25819714e-01,  -3.19005143e-01,   2.38392127e+00,\n",
       "         1.35636371e+00,  -6.13119814e-01,  -8.06705721e-01,\n",
       "        -1.39790137e+00,  -1.22853750e-02,  -1.44011818e+00,\n",
       "         9.96383575e-01,   1.70020623e+00,   1.71790961e+00,\n",
       "        -8.75620259e-02,   3.49785524e-01,  -2.47810813e-01,\n",
       "         1.02072606e+00,  -6.53950000e-01,  -1.24508782e+00,\n",
       "        -1.51178587e+00,  -1.67911426e+00,  -2.30318474e-01,\n",
       "         1.27238721e-01,   8.99321804e-01,  -8.21505153e-01,\n",
       "         9.97566284e-02,  -8.23942881e-01,  -7.69991420e-01,\n",
       "        -2.24341136e+00,   8.23927861e-01,   2.38907586e-01,\n",
       "        -1.45948683e-02,   1.48508199e+00,  -8.77668624e-01,\n",
       "         1.49992972e+00,   1.76581571e-01,  -1.41065863e+00,\n",
       "         2.49767301e-01,  -6.31243366e-01,  -2.69633838e-01,\n",
       "        -4.41109755e-02,  -1.34067576e+00,   3.71675860e-02,\n",
       "         5.04127890e-01,   6.40438353e-01,  -3.20290500e-01,\n",
       "        -1.06209931e+00,   1.68076260e-02,  -7.48958567e-01,\n",
       "        -1.47271466e+00,  -6.33339187e-01,  -9.32668448e-01,\n",
       "         1.28076985e+00,  -1.94771688e+00,  -1.26404015e+00,\n",
       "        -1.79941145e+00,  -1.40377859e+00,  -1.28869510e+00,\n",
       "         2.64054417e-01,   1.89425629e+00,  -1.14202529e+00,\n",
       "        -9.07628453e-01,   3.02719942e+00,   1.49136120e+00,\n",
       "         3.93776744e-01,   4.67037871e-01,   1.90443013e-01,\n",
       "         3.42591449e-01,  -1.98002778e+00,  -1.75901343e+00,\n",
       "        -2.02683049e+00,   1.11316512e+00,   6.77143147e-01,\n",
       "        -4.07008221e-01,   1.83415170e+00,   3.73768798e-01,\n",
       "        -1.96427461e-01,  -3.68816593e-01,   1.51721240e+00,\n",
       "        -2.29749097e+00,  -2.44483885e-02,  -1.38906118e+00,\n",
       "        -9.87757539e-01,  -6.62420252e-01,  -8.30781608e-01,\n",
       "         5.58008789e-01,   1.33762834e+00,   4.67800132e-01,\n",
       "        -3.52826465e-01,  -8.62848625e-01,  -7.27067909e-01,\n",
       "         2.58030563e-01,   6.16912678e-01,  -1.49913673e+00,\n",
       "         3.43799210e-01,  -7.44671411e-01,   1.80112765e+00,\n",
       "        -1.38633562e-01,  -1.73539212e+00,   1.00558223e+00,\n",
       "        -3.56610275e-01,   4.04323754e-01,  -1.08890928e+00,\n",
       "         2.88156942e-01,  -2.59909684e+00,  -3.79607130e-01,\n",
       "         7.90015369e-01,  -4.55854556e-01,  -1.97119488e+00,\n",
       "        -7.07258143e-01,   7.99188773e-01,   5.98640252e-01,\n",
       "        -1.09276248e+00,  -7.97140538e-01,  -5.34331878e-02,\n",
       "        -1.68169432e+00])"
      ]
     },
     "execution_count": 23,
     "metadata": {},
     "output_type": "execute_result"
    }
   ],
   "source": [
    "SAMPLE_SIZE = 1000\n",
    "x = np.random.normal(size=SAMPLE_SIZE)\n",
    "y = np.random.normal(size=SAMPLE_SIZE)\n",
    "x"
   ]
  },
  {
   "cell_type": "markdown",
   "metadata": {},
   "source": [
    "The `%matplotlib inline` magic command will render visualizations in the Jupyter notebook cells."
   ]
  },
  {
   "cell_type": "code",
   "execution_count": 24,
   "metadata": {
    "collapsed": true
   },
   "outputs": [],
   "source": [
    "%matplotlib inline\n",
    "import pylab as plt"
   ]
  },
  {
   "cell_type": "markdown",
   "metadata": {},
   "source": [
    "We can confirm the normal distribution with a histogram."
   ]
  },
  {
   "cell_type": "code",
   "execution_count": 25,
   "metadata": {
    "collapsed": false
   },
   "outputs": [
    {
     "data": {
      "text/plain": [
       "(array([  15.,   49.,  114.,  185.,  242.,  193.,  116.,   60.,   18.,    8.]),\n",
       " array([-2.74979198, -2.15358314, -1.5573743 , -0.96116545, -0.36495661,\n",
       "         0.23125223,  0.82746108,  1.42366992,  2.01987876,  2.61608761,\n",
       "         3.21229645]),\n",
       " <a list of 10 Patch objects>)"
      ]
     },
     "execution_count": 25,
     "metadata": {},
     "output_type": "execute_result"
    },
    {
     "data": {
      "image/png": "[encoded data removed]",
      "text/plain": [
       "<matplotlib.figure.Figure at 0x10be8f9b0>"
      ]
     },
     "metadata": {},
     "output_type": "display_data"
    }
   ],
   "source": [
    "plt.hist(x)"
   ]
  },
  {
   "cell_type": "markdown",
   "metadata": {},
   "source": [
    "Plotting a scatter graph of two normal distributions should show the points tending to the center."
   ]
  },
  {
   "cell_type": "code",
   "execution_count": 26,
   "metadata": {
    "collapsed": false
   },
   "outputs": [
    {
     "data": {
      "text/plain": [
       "<matplotlib.collections.PathCollection at 0x10faf9390>"
      ]
     },
     "execution_count": 26,
     "metadata": {},
     "output_type": "execute_result"
    },
    {
     "data": {
      "image/png": "[encoded data removed]",
      "text/plain": [
       "<matplotlib.figure.Figure at 0x10f45b668>"
      ]
     },
     "metadata": {},
     "output_type": "display_data"
    }
   ],
   "source": [
    "plt.scatter(x, y)"
   ]
  },
  {
   "cell_type": "markdown",
   "metadata": {},
   "source": [
    "Hmmm, that doesn't look quite right.  Maybe if we increase the sample size."
   ]
  },
  {
   "cell_type": "code",
   "execution_count": 27,
   "metadata": {
    "collapsed": false
   },
   "outputs": [
    {
     "data": {
      "text/plain": [
       "<matplotlib.collections.PathCollection at 0x10fc24978>"
      ]
     },
     "execution_count": 27,
     "metadata": {},
     "output_type": "execute_result"
    },
    {
     "data": {
      "image/png": "[encoded data removed]",
      "text/plain": [
       "<matplotlib.figure.Figure at 0x1063fe668>"
      ]
     },
     "metadata": {},
     "output_type": "display_data"
    }
   ],
   "source": [
    "SAMPLE_SIZE = 1000\n",
    "x = np.random.normal(size=SAMPLE_SIZE)\n",
    "y = np.random.normal(size=SAMPLE_SIZE)\n",
    "\n",
    "plt.scatter(x, y)"
   ]
  },
  {
   "cell_type": "markdown",
   "metadata": {},
   "source": [
    "That's more like what is expected.  And this is a common technique when running experiments: iterative runs while tweaking parameters.  But since the cells in the notebook are not static, they can be edited and run again in place."
   ]
  },
  {
   "cell_type": "markdown",
   "metadata": {},
   "source": [
    "The `uniform` function creates a 'continuous' distribution."
   ]
  },
  {
   "cell_type": "code",
   "execution_count": 28,
   "metadata": {
    "collapsed": true
   },
   "outputs": [],
   "source": [
    "uni_x = np.random.uniform(size=SAMPLE_SIZE)\n",
    "uni_y = np.random.uniform(size=SAMPLE_SIZE)"
   ]
  },
  {
   "cell_type": "code",
   "execution_count": 29,
   "metadata": {
    "collapsed": false
   },
   "outputs": [
    {
     "data": {
      "text/plain": [
       "(array([  84.,  104.,  104.,  100.,   88.,   92.,  100.,  107.,  118.,  103.]),\n",
       " array([ 0.00126133,  0.10097535,  0.20068936,  0.30040337,  0.40011738,\n",
       "         0.49983139,  0.5995454 ,  0.69925941,  0.79897342,  0.89868743,\n",
       "         0.99840144]),\n",
       " <a list of 10 Patch objects>)"
      ]
     },
     "execution_count": 29,
     "metadata": {},
     "output_type": "execute_result"
    },
    {
     "data": {
      "image/png": "[encoded data removed]",
      "text/plain": [
       "<matplotlib.figure.Figure at 0x10fc4c710>"
      ]
     },
     "metadata": {},
     "output_type": "display_data"
    }
   ],
   "source": [
    "plt.hist(uni_x)"
   ]
  },
  {
   "cell_type": "code",
   "execution_count": 30,
   "metadata": {
    "collapsed": false
   },
   "outputs": [
    {
     "data": {
      "text/plain": [
       "<matplotlib.collections.PathCollection at 0x10fdc3048>"
      ]
     },
     "execution_count": 30,
     "metadata": {},
     "output_type": "execute_result"
    },
    {
     "data": {
      "image/png": "[encoded data removed]",
      "text/plain": [
       "<matplotlib.figure.Figure at 0x10fd1b2e8>"
      ]
     },
     "metadata": {},
     "output_type": "display_data"
    }
   ],
   "source": [
    "plt.scatter(uni_x, uni_y)"
   ]
  },
  {
   "cell_type": "markdown",
   "metadata": {},
   "source": [
    "The `linspace` function will create a sequence of equally spaced values."
   ]
  },
  {
   "cell_type": "code",
   "execution_count": 31,
   "metadata": {
    "collapsed": false
   },
   "outputs": [
    {
     "data": {
      "text/plain": [
       "array([  0.        ,   0.01745329,   0.03490659,   0.05235988,\n",
       "         0.06981317,   0.08726646,   0.10471976,   0.12217305,\n",
       "         0.13962634,   0.15707963,   0.17453293,   0.19198622,\n",
       "         0.20943951,   0.2268928 ,   0.2443461 ,   0.26179939,\n",
       "         0.27925268,   0.29670597,   0.31415927,   0.33161256,\n",
       "         0.34906585,   0.36651914,   0.38397244,   0.40142573,\n",
       "         0.41887902,   0.43633231,   0.45378561,   0.4712389 ,\n",
       "         0.48869219,   0.50614548,   0.52359878,   0.54105207,\n",
       "         0.55850536,   0.57595865,   0.59341195,   0.61086524,\n",
       "         0.62831853,   0.64577182,   0.66322512,   0.68067841,\n",
       "         0.6981317 ,   0.71558499,   0.73303829,   0.75049158,\n",
       "         0.76794487,   0.78539816,   0.80285146,   0.82030475,\n",
       "         0.83775804,   0.85521133,   0.87266463,   0.89011792,\n",
       "         0.90757121,   0.9250245 ,   0.9424778 ,   0.95993109,\n",
       "         0.97738438,   0.99483767,   1.01229097,   1.02974426,\n",
       "         1.04719755,   1.06465084,   1.08210414,   1.09955743,\n",
       "         1.11701072,   1.13446401,   1.15191731,   1.1693706 ,\n",
       "         1.18682389,   1.20427718,   1.22173048,   1.23918377,\n",
       "         1.25663706,   1.27409035,   1.29154365,   1.30899694,\n",
       "         1.32645023,   1.34390352,   1.36135682,   1.37881011,\n",
       "         1.3962634 ,   1.41371669,   1.43116999,   1.44862328,\n",
       "         1.46607657,   1.48352986,   1.50098316,   1.51843645,\n",
       "         1.53588974,   1.55334303,   1.57079633,   1.58824962,\n",
       "         1.60570291,   1.6231562 ,   1.6406095 ,   1.65806279,\n",
       "         1.67551608,   1.69296937,   1.71042267,   1.72787596,\n",
       "         1.74532925,   1.76278254,   1.78023584,   1.79768913,\n",
       "         1.81514242,   1.83259571,   1.85004901,   1.8675023 ,\n",
       "         1.88495559,   1.90240888,   1.91986218,   1.93731547,\n",
       "         1.95476876,   1.97222205,   1.98967535,   2.00712864,\n",
       "         2.02458193,   2.04203522,   2.05948852,   2.07694181,\n",
       "         2.0943951 ,   2.11184839,   2.12930169,   2.14675498,\n",
       "         2.16420827,   2.18166156,   2.19911486,   2.21656815,\n",
       "         2.23402144,   2.25147474,   2.26892803,   2.28638132,\n",
       "         2.30383461,   2.32128791,   2.3387412 ,   2.35619449,\n",
       "         2.37364778,   2.39110108,   2.40855437,   2.42600766,\n",
       "         2.44346095,   2.46091425,   2.47836754,   2.49582083,\n",
       "         2.51327412,   2.53072742,   2.54818071,   2.565634  ,\n",
       "         2.58308729,   2.60054059,   2.61799388,   2.63544717,\n",
       "         2.65290046,   2.67035376,   2.68780705,   2.70526034,\n",
       "         2.72271363,   2.74016693,   2.75762022,   2.77507351,\n",
       "         2.7925268 ,   2.8099801 ,   2.82743339,   2.84488668,\n",
       "         2.86233997,   2.87979327,   2.89724656,   2.91469985,\n",
       "         2.93215314,   2.94960644,   2.96705973,   2.98451302,\n",
       "         3.00196631,   3.01941961,   3.0368729 ,   3.05432619,\n",
       "         3.07177948,   3.08923278,   3.10668607,   3.12413936,\n",
       "         3.14159265,   3.15904595,   3.17649924,   3.19395253,\n",
       "         3.21140582,   3.22885912,   3.24631241,   3.2637657 ,\n",
       "         3.28121899,   3.29867229,   3.31612558,   3.33357887,\n",
       "         3.35103216,   3.36848546,   3.38593875,   3.40339204,\n",
       "         3.42084533,   3.43829863,   3.45575192,   3.47320521,\n",
       "         3.4906585 ,   3.5081118 ,   3.52556509,   3.54301838,\n",
       "         3.56047167,   3.57792497,   3.59537826,   3.61283155,\n",
       "         3.63028484,   3.64773814,   3.66519143,   3.68264472,\n",
       "         3.70009801,   3.71755131,   3.7350046 ,   3.75245789,\n",
       "         3.76991118,   3.78736448,   3.80481777,   3.82227106,\n",
       "         3.83972435,   3.85717765,   3.87463094,   3.89208423,\n",
       "         3.90953752,   3.92699082,   3.94444411,   3.9618974 ,\n",
       "         3.97935069,   3.99680399,   4.01425728,   4.03171057,\n",
       "         4.04916386,   4.06661716,   4.08407045,   4.10152374,\n",
       "         4.11897703,   4.13643033,   4.15388362,   4.17133691,\n",
       "         4.1887902 ,   4.2062435 ,   4.22369679,   4.24115008,\n",
       "         4.25860337,   4.27605667,   4.29350996,   4.31096325,\n",
       "         4.32841654,   4.34586984,   4.36332313,   4.38077642,\n",
       "         4.39822972,   4.41568301,   4.4331363 ,   4.45058959,\n",
       "         4.46804289,   4.48549618,   4.50294947,   4.52040276,\n",
       "         4.53785606,   4.55530935,   4.57276264,   4.59021593,\n",
       "         4.60766923,   4.62512252,   4.64257581,   4.6600291 ,\n",
       "         4.6774824 ,   4.69493569,   4.71238898,   4.72984227,\n",
       "         4.74729557,   4.76474886,   4.78220215,   4.79965544,\n",
       "         4.81710874,   4.83456203,   4.85201532,   4.86946861,\n",
       "         4.88692191,   4.9043752 ,   4.92182849,   4.93928178,\n",
       "         4.95673508,   4.97418837,   4.99164166,   5.00909495,\n",
       "         5.02654825,   5.04400154,   5.06145483,   5.07890812,\n",
       "         5.09636142,   5.11381471,   5.131268  ,   5.14872129,\n",
       "         5.16617459,   5.18362788,   5.20108117,   5.21853446,\n",
       "         5.23598776,   5.25344105,   5.27089434,   5.28834763,\n",
       "         5.30580093,   5.32325422,   5.34070751,   5.3581608 ,\n",
       "         5.3756141 ,   5.39306739,   5.41052068,   5.42797397,\n",
       "         5.44542727,   5.46288056,   5.48033385,   5.49778714,\n",
       "         5.51524044,   5.53269373,   5.55014702,   5.56760031,\n",
       "         5.58505361,   5.6025069 ,   5.61996019,   5.63741348,\n",
       "         5.65486678,   5.67232007,   5.68977336,   5.70722665,\n",
       "         5.72467995,   5.74213324,   5.75958653,   5.77703982,\n",
       "         5.79449312,   5.81194641,   5.8293997 ,   5.84685299,\n",
       "         5.86430629,   5.88175958,   5.89921287,   5.91666616,\n",
       "         5.93411946,   5.95157275,   5.96902604,   5.98647933,\n",
       "         6.00393263,   6.02138592,   6.03883921,   6.0562925 ,\n",
       "         6.0737458 ,   6.09119909,   6.10865238,   6.12610567,\n",
       "         6.14355897,   6.16101226,   6.17846555,   6.19591884,\n",
       "         6.21337214,   6.23082543,   6.24827872,   6.26573201,\n",
       "         6.28318531,   6.3006386 ,   6.31809189,   6.33554518,\n",
       "         6.35299848,   6.37045177,   6.38790506,   6.40535835,\n",
       "         6.42281165,   6.44026494,   6.45771823,   6.47517152,\n",
       "         6.49262482,   6.51007811,   6.5275314 ,   6.54498469,\n",
       "         6.56243799,   6.57989128,   6.59734457,   6.61479787,\n",
       "         6.63225116,   6.64970445,   6.66715774,   6.68461104,\n",
       "         6.70206433,   6.71951762,   6.73697091,   6.75442421,\n",
       "         6.7718775 ,   6.78933079,   6.80678408,   6.82423738,\n",
       "         6.84169067,   6.85914396,   6.87659725,   6.89405055,\n",
       "         6.91150384,   6.92895713,   6.94641042,   6.96386372,\n",
       "         6.98131701,   6.9987703 ,   7.01622359,   7.03367689,\n",
       "         7.05113018,   7.06858347,   7.08603676,   7.10349006,\n",
       "         7.12094335,   7.13839664,   7.15584993,   7.17330323,\n",
       "         7.19075652,   7.20820981,   7.2256631 ,   7.2431164 ,\n",
       "         7.26056969,   7.27802298,   7.29547627,   7.31292957,\n",
       "         7.33038286,   7.34783615,   7.36528944,   7.38274274,\n",
       "         7.40019603,   7.41764932,   7.43510261,   7.45255591,\n",
       "         7.4700092 ,   7.48746249,   7.50491578,   7.52236908,\n",
       "         7.53982237,   7.55727566,   7.57472895,   7.59218225,\n",
       "         7.60963554,   7.62708883,   7.64454212,   7.66199542,\n",
       "         7.67944871,   7.696902  ,   7.71435529,   7.73180859,\n",
       "         7.74926188,   7.76671517,   7.78416846,   7.80162176,\n",
       "         7.81907505,   7.83652834,   7.85398163,   7.87143493,\n",
       "         7.88888822,   7.90634151,   7.9237948 ,   7.9412481 ,\n",
       "         7.95870139,   7.97615468,   7.99360797,   8.01106127,\n",
       "         8.02851456,   8.04596785,   8.06342114,   8.08087444,\n",
       "         8.09832773,   8.11578102,   8.13323431,   8.15068761,\n",
       "         8.1681409 ,   8.18559419,   8.20304748,   8.22050078,\n",
       "         8.23795407,   8.25540736,   8.27286065,   8.29031395,\n",
       "         8.30776724,   8.32522053,   8.34267382,   8.36012712,\n",
       "         8.37758041,   8.3950337 ,   8.41248699,   8.42994029,\n",
       "         8.44739358,   8.46484687,   8.48230016,   8.49975346,\n",
       "         8.51720675,   8.53466004,   8.55211333,   8.56956663,\n",
       "         8.58701992,   8.60447321,   8.6219265 ,   8.6393798 ,\n",
       "         8.65683309,   8.67428638,   8.69173967,   8.70919297,\n",
       "         8.72664626,   8.74409955,   8.76155285,   8.77900614,\n",
       "         8.79645943,   8.81391272,   8.83136602,   8.84881931,\n",
       "         8.8662726 ,   8.88372589,   8.90117919,   8.91863248,\n",
       "         8.93608577,   8.95353906,   8.97099236,   8.98844565,\n",
       "         9.00589894,   9.02335223,   9.04080553,   9.05825882,\n",
       "         9.07571211,   9.0931654 ,   9.1106187 ,   9.12807199,\n",
       "         9.14552528,   9.16297857,   9.18043187,   9.19788516,\n",
       "         9.21533845,   9.23279174,   9.25024504,   9.26769833,\n",
       "         9.28515162,   9.30260491,   9.32005821,   9.3375115 ,\n",
       "         9.35496479,   9.37241808,   9.38987138,   9.40732467,\n",
       "         9.42477796,   9.44223125,   9.45968455,   9.47713784,\n",
       "         9.49459113,   9.51204442,   9.52949772,   9.54695101,\n",
       "         9.5644043 ,   9.58185759,   9.59931089,   9.61676418,\n",
       "         9.63421747,   9.65167076,   9.66912406,   9.68657735,\n",
       "         9.70403064,   9.72148393,   9.73893723,   9.75639052,\n",
       "         9.77384381,   9.7912971 ,   9.8087504 ,   9.82620369,\n",
       "         9.84365698,   9.86111027,   9.87856357,   9.89601686,\n",
       "         9.91347015,   9.93092344,   9.94837674,   9.96583003,\n",
       "         9.98328332,  10.00073661,  10.01818991,  10.0356432 ,\n",
       "        10.05309649,  10.07054978,  10.08800308,  10.10545637,\n",
       "        10.12290966,  10.14036295,  10.15781625,  10.17526954,\n",
       "        10.19272283,  10.21017612,  10.22762942,  10.24508271,\n",
       "        10.262536  ,  10.27998929,  10.29744259,  10.31489588,\n",
       "        10.33234917,  10.34980246,  10.36725576,  10.38470905,\n",
       "        10.40216234,  10.41961563,  10.43706893,  10.45452222,\n",
       "        10.47197551,  10.4894288 ,  10.5068821 ,  10.52433539,\n",
       "        10.54178868,  10.55924197,  10.57669527,  10.59414856,\n",
       "        10.61160185,  10.62905514,  10.64650844,  10.66396173,\n",
       "        10.68141502,  10.69886831,  10.71632161,  10.7337749 ,\n",
       "        10.75122819,  10.76868148,  10.78613478,  10.80358807,\n",
       "        10.82104136,  10.83849465,  10.85594795,  10.87340124,\n",
       "        10.89085453,  10.90830782,  10.92576112,  10.94321441,\n",
       "        10.9606677 ,  10.978121  ,  10.99557429,  11.01302758,\n",
       "        11.03048087,  11.04793417,  11.06538746,  11.08284075,\n",
       "        11.10029404,  11.11774734,  11.13520063,  11.15265392,\n",
       "        11.17010721,  11.18756051,  11.2050138 ,  11.22246709,\n",
       "        11.23992038,  11.25737368,  11.27482697,  11.29228026,\n",
       "        11.30973355,  11.32718685,  11.34464014,  11.36209343,\n",
       "        11.37954672,  11.39700002,  11.41445331,  11.4319066 ,\n",
       "        11.44935989,  11.46681319,  11.48426648,  11.50171977,\n",
       "        11.51917306,  11.53662636,  11.55407965,  11.57153294,\n",
       "        11.58898623,  11.60643953,  11.62389282,  11.64134611,\n",
       "        11.6587994 ,  11.6762527 ,  11.69370599,  11.71115928,\n",
       "        11.72861257,  11.74606587,  11.76351916,  11.78097245,\n",
       "        11.79842574,  11.81587904,  11.83333233,  11.85078562,\n",
       "        11.86823891,  11.88569221,  11.9031455 ,  11.92059879,\n",
       "        11.93805208,  11.95550538,  11.97295867,  11.99041196,\n",
       "        12.00786525,  12.02531855,  12.04277184,  12.06022513,\n",
       "        12.07767842,  12.09513172,  12.11258501,  12.1300383 ,\n",
       "        12.14749159,  12.16494489,  12.18239818,  12.19985147,\n",
       "        12.21730476,  12.23475806,  12.25221135,  12.26966464,\n",
       "        12.28711793,  12.30457123,  12.32202452,  12.33947781,\n",
       "        12.3569311 ,  12.3743844 ,  12.39183769,  12.40929098,\n",
       "        12.42674427,  12.44419757,  12.46165086,  12.47910415,\n",
       "        12.49655744,  12.51401074,  12.53146403,  12.54891732,  12.56637061])"
      ]
     },
     "execution_count": 31,
     "metadata": {},
     "output_type": "execute_result"
    }
   ],
   "source": [
    "x = np.linspace(0, 4 * np.pi, 721)\n",
    "x"
   ]
  },
  {
   "cell_type": "code",
   "execution_count": 32,
   "metadata": {
    "collapsed": false
   },
   "outputs": [
    {
     "data": {
      "text/plain": [
       "[<matplotlib.lines.Line2D at 0x1101c5588>]"
      ]
     },
     "execution_count": 32,
     "metadata": {},
     "output_type": "execute_result"
    },
    {
     "data": {
      "image/png": "[encoded data removed]",
      "text/plain": [
       "<matplotlib.figure.Figure at 0x1100ba588>"
      ]
     },
     "metadata": {},
     "output_type": "display_data"
    }
   ],
   "source": [
    "y = np.cos(x)\n",
    "plt.plot(x, y)"
   ]
  },
  {
   "cell_type": "markdown",
   "metadata": {},
   "source": [
    "## Widgets\n",
    "\n",
    "It's one thing to change a value and re-run a cell.  It's another to be able to interact with a notebook through a UI."
   ]
  },
  {
   "cell_type": "code",
   "execution_count": 33,
   "metadata": {
    "collapsed": true
   },
   "outputs": [],
   "source": [
    "from ipywidgets import interact\n",
    "from ipywidgets import widgets"
   ]
  },
  {
   "cell_type": "code",
   "execution_count": 34,
   "metadata": {
    "collapsed": true
   },
   "outputs": [],
   "source": [
    "def generate_graph(p):\n",
    "    x_values = np.random.normal(size=p)\n",
    "    y_values = np.random.normal(size=p)\n",
    "    \n",
    "    plt.scatter(x_values, y_values)"
   ]
  },
  {
   "cell_type": "markdown",
   "metadata": {},
   "source": [
    "The `interact` function renders a UI widget for each parameter passed to the function being interacted with.  By default, the widget will be a slider with integer values.  However, custom widgets can be passed to the `interact` function as keyword arguments."
   ]
  },
  {
   "cell_type": "code",
   "execution_count": 35,
   "metadata": {
    "collapsed": false
   },
   "outputs": [
    {
     "data": {
      "text/plain": [
       "<function __main__.generate_graph>"
      ]
     },
     "execution_count": 35,
     "metadata": {},
     "output_type": "execute_result"
    },
    {
     "data": {
      "image/png": "[encoded data removed]",
      "text/plain": [
       "<matplotlib.figure.Figure at 0x1100e2630>"
      ]
     },
     "metadata": {},
     "output_type": "display_data"
    }
   ],
   "source": [
    "interact(generate_graph, p=widgets.IntSlider(min=0,max=1000, step=100))"
   ]
  },
  {
   "cell_type": "code",
   "execution_count": 36,
   "metadata": {
    "collapsed": false
   },
   "outputs": [],
   "source": [
    "def generate_graph_with_options(points, dist=('continuous', 'normal')):\n",
    "    if dist == 'continuous':\n",
    "        x_values = np.random.uniform(size=points)\n",
    "        y_values = np.random.uniform(size=points)\n",
    "    else:\n",
    "        x_values = np.random.normal(size=points)\n",
    "        y_values = np.random.normal(size=points)\n",
    "    \n",
    "    plt.scatter(x_values, y_values)"
   ]
  },
  {
   "cell_type": "markdown",
   "metadata": {},
   "source": [
    "In this case, two parameters render two widgets.  The second one defaults to a dropdown list."
   ]
  },
  {
   "cell_type": "code",
   "execution_count": 37,
   "metadata": {
    "collapsed": false
   },
   "outputs": [
    {
     "data": {
      "text/plain": [
       "<function __main__.generate_graph_with_options>"
      ]
     },
     "execution_count": 37,
     "metadata": {},
     "output_type": "execute_result"
    },
    {
     "data": {
      "image/png": "[encoded data removed]",
      "text/plain": [
       "<matplotlib.figure.Figure at 0x1101ebb38>"
      ]
     },
     "metadata": {},
     "output_type": "display_data"
    }
   ],
   "source": [
    "interact(generate_graph_with_options, points=widgets.IntSlider(min=0, max = 1000, step=100))"
   ]
  },
  {
   "cell_type": "markdown",
   "metadata": {},
   "source": [
    "## pandas"
   ]
  },
  {
   "cell_type": "code",
   "execution_count": 38,
   "metadata": {
    "collapsed": true
   },
   "outputs": [],
   "source": [
    "import pandas as pd"
   ]
  },
  {
   "cell_type": "markdown",
   "metadata": {},
   "source": [
    "A fundamental data structure in `pandas` is the `DataFrame`.  DataFrames can be created in a number of ways but for demo purposes I will use three lists representing fictional weather stats for the temperature, snowfall and rainfall for each month.  Notice the the data is contained in a dictionary and the keys of the dictionary become column headers in the DataFrame."
   ]
  },
  {
   "cell_type": "code",
   "execution_count": 39,
   "metadata": {
    "collapsed": false
   },
   "outputs": [
    {
     "data": {
      "text/html": [
       "<div>\n",
       "<table border=\"1\" class=\"dataframe\">\n",
       "  <thead>\n",
       "    <tr style=\"text-align: right;\">\n",
       "      <th></th>\n",
       "      <th>rain</th>\n",
       "      <th>snow</th>\n",
       "      <th>temp</th>\n",
       "    </tr>\n",
       "  </thead>\n",
       "  <tbody>\n",
       "    <tr>\n",
       "      <th>0</th>\n",
       "      <td>0</td>\n",
       "      <td>3</td>\n",
       "      <td>25</td>\n",
       "    </tr>\n",
       "    <tr>\n",
       "      <th>1</th>\n",
       "      <td>0</td>\n",
       "      <td>1</td>\n",
       "      <td>38</td>\n",
       "    </tr>\n",
       "    <tr>\n",
       "      <th>2</th>\n",
       "      <td>1</td>\n",
       "      <td>0</td>\n",
       "      <td>53</td>\n",
       "    </tr>\n",
       "    <tr>\n",
       "      <th>3</th>\n",
       "      <td>2</td>\n",
       "      <td>0</td>\n",
       "      <td>62</td>\n",
       "    </tr>\n",
       "    <tr>\n",
       "      <th>4</th>\n",
       "      <td>4</td>\n",
       "      <td>0</td>\n",
       "      <td>68</td>\n",
       "    </tr>\n",
       "    <tr>\n",
       "      <th>5</th>\n",
       "      <td>5</td>\n",
       "      <td>0</td>\n",
       "      <td>75</td>\n",
       "    </tr>\n",
       "    <tr>\n",
       "      <th>6</th>\n",
       "      <td>5</td>\n",
       "      <td>0</td>\n",
       "      <td>88</td>\n",
       "    </tr>\n",
       "    <tr>\n",
       "      <th>7</th>\n",
       "      <td>4</td>\n",
       "      <td>0</td>\n",
       "      <td>82</td>\n",
       "    </tr>\n",
       "    <tr>\n",
       "      <th>8</th>\n",
       "      <td>4</td>\n",
       "      <td>0</td>\n",
       "      <td>79</td>\n",
       "    </tr>\n",
       "    <tr>\n",
       "      <th>9</th>\n",
       "      <td>3</td>\n",
       "      <td>0</td>\n",
       "      <td>64</td>\n",
       "    </tr>\n",
       "    <tr>\n",
       "      <th>10</th>\n",
       "      <td>2</td>\n",
       "      <td>0</td>\n",
       "      <td>55</td>\n",
       "    </tr>\n",
       "    <tr>\n",
       "      <th>11</th>\n",
       "      <td>1</td>\n",
       "      <td>1</td>\n",
       "      <td>37</td>\n",
       "    </tr>\n",
       "  </tbody>\n",
       "</table>\n",
       "</div>"
      ],
      "text/plain": [
       "    rain  snow  temp\n",
       "0      0     3    25\n",
       "1      0     1    38\n",
       "2      1     0    53\n",
       "3      2     0    62\n",
       "4      4     0    68\n",
       "5      5     0    75\n",
       "6      5     0    88\n",
       "7      4     0    82\n",
       "8      4     0    79\n",
       "9      3     0    64\n",
       "10     2     0    55\n",
       "11     1     1    37"
      ]
     },
     "execution_count": 39,
     "metadata": {},
     "output_type": "execute_result"
    }
   ],
   "source": [
    "avg_temp = [25, 38, 53, 62, 68, 75, 88, 82, 79, 64, 55, 37]\n",
    "avg_snow = [3, 1, 0, 0, 0, 0, 0, 0, 0, 0, 0, 1]\n",
    "avg_rain = [0, 0, 1, 2, 4, 5, 5, 4, 4, 3, 2, 1]\n",
    "\n",
    "weather_df = pd.DataFrame(data = {\n",
    "        'temp': avg_temp,\n",
    "        'snow': avg_snow,\n",
    "        'rain': avg_rain\n",
    "    })\n",
    "weather_df"
   ]
  },
  {
   "cell_type": "markdown",
   "metadata": {},
   "source": [
    "Now I can access each column by its name similar to how a dictionary accesses values by keys.  The return value is of type `Series` which is like a `list` or `ndarray` with some extra metadata.  "
   ]
  },
  {
   "cell_type": "code",
   "execution_count": 40,
   "metadata": {
    "collapsed": false
   },
   "outputs": [
    {
     "data": {
      "text/plain": [
       "0     0\n",
       "1     0\n",
       "2     1\n",
       "3     2\n",
       "4     4\n",
       "5     5\n",
       "6     5\n",
       "7     4\n",
       "8     4\n",
       "9     3\n",
       "10    2\n",
       "11    1\n",
       "Name: rain, dtype: int64"
      ]
     },
     "execution_count": 40,
     "metadata": {},
     "output_type": "execute_result"
    }
   ],
   "source": [
    "weather_df['rain']"
   ]
  },
  {
   "cell_type": "markdown",
   "metadata": {},
   "source": [
    "I can also use the `rain` column as a parameter to the numpy `sum` function and easily get the total rainfall for the year."
   ]
  },
  {
   "cell_type": "code",
   "execution_count": 41,
   "metadata": {
    "collapsed": false,
    "scrolled": true
   },
   "outputs": [
    {
     "data": {
      "text/plain": [
       "31"
      ]
     },
     "execution_count": 41,
     "metadata": {},
     "output_type": "execute_result"
    }
   ],
   "source": [
    "total_rain = np.sum(weather_df['rain'])\n",
    "total_rain"
   ]
  },
  {
   "cell_type": "markdown",
   "metadata": {},
   "source": [
    "The columns can also be accessed using the dot syntax."
   ]
  },
  {
   "cell_type": "code",
   "execution_count": 42,
   "metadata": {
    "collapsed": false,
    "scrolled": false
   },
   "outputs": [
    {
     "data": {
      "text/plain": [
       "5"
      ]
     },
     "execution_count": 42,
     "metadata": {},
     "output_type": "execute_result"
    }
   ],
   "source": [
    "total_snow = np.sum(weather_df.snow)\n",
    "total_snow"
   ]
  },
  {
   "cell_type": "markdown",
   "metadata": {},
   "source": [
    "A number a methods will operate on the entire `DataFrame` and provide a summary for each column.  Here I am using the `mean` method to compute the average value for each column in one step."
   ]
  },
  {
   "cell_type": "code",
   "execution_count": 43,
   "metadata": {
    "collapsed": false
   },
   "outputs": [
    {
     "data": {
      "text/plain": [
       "rain     2.583333\n",
       "snow     0.416667\n",
       "temp    60.500000\n",
       "dtype: float64"
      ]
     },
     "execution_count": 43,
     "metadata": {},
     "output_type": "execute_result"
    }
   ],
   "source": [
    "weather_df.mean()"
   ]
  },
  {
   "cell_type": "markdown",
   "metadata": {},
   "source": [
    "The `index` of the `DataFrame` can be changed using a `list`."
   ]
  },
  {
   "cell_type": "code",
   "execution_count": 44,
   "metadata": {
    "collapsed": false
   },
   "outputs": [
    {
     "data": {
      "text/html": [
       "<div>\n",
       "<table border=\"1\" class=\"dataframe\">\n",
       "  <thead>\n",
       "    <tr style=\"text-align: right;\">\n",
       "      <th></th>\n",
       "      <th>rain</th>\n",
       "      <th>snow</th>\n",
       "      <th>temp</th>\n",
       "    </tr>\n",
       "  </thead>\n",
       "  <tbody>\n",
       "    <tr>\n",
       "      <th>Jan</th>\n",
       "      <td>0</td>\n",
       "      <td>3</td>\n",
       "      <td>25</td>\n",
       "    </tr>\n",
       "    <tr>\n",
       "      <th>Feb</th>\n",
       "      <td>0</td>\n",
       "      <td>1</td>\n",
       "      <td>38</td>\n",
       "    </tr>\n",
       "    <tr>\n",
       "      <th>Mar</th>\n",
       "      <td>1</td>\n",
       "      <td>0</td>\n",
       "      <td>53</td>\n",
       "    </tr>\n",
       "    <tr>\n",
       "      <th>Apr</th>\n",
       "      <td>2</td>\n",
       "      <td>0</td>\n",
       "      <td>62</td>\n",
       "    </tr>\n",
       "    <tr>\n",
       "      <th>May</th>\n",
       "      <td>4</td>\n",
       "      <td>0</td>\n",
       "      <td>68</td>\n",
       "    </tr>\n",
       "    <tr>\n",
       "      <th>Jun</th>\n",
       "      <td>5</td>\n",
       "      <td>0</td>\n",
       "      <td>75</td>\n",
       "    </tr>\n",
       "    <tr>\n",
       "      <th>Jul</th>\n",
       "      <td>5</td>\n",
       "      <td>0</td>\n",
       "      <td>88</td>\n",
       "    </tr>\n",
       "    <tr>\n",
       "      <th>Aug</th>\n",
       "      <td>4</td>\n",
       "      <td>0</td>\n",
       "      <td>82</td>\n",
       "    </tr>\n",
       "    <tr>\n",
       "      <th>Sep</th>\n",
       "      <td>4</td>\n",
       "      <td>0</td>\n",
       "      <td>79</td>\n",
       "    </tr>\n",
       "    <tr>\n",
       "      <th>Oct</th>\n",
       "      <td>3</td>\n",
       "      <td>0</td>\n",
       "      <td>64</td>\n",
       "    </tr>\n",
       "    <tr>\n",
       "      <th>Nov</th>\n",
       "      <td>2</td>\n",
       "      <td>0</td>\n",
       "      <td>55</td>\n",
       "    </tr>\n",
       "    <tr>\n",
       "      <th>Dec</th>\n",
       "      <td>1</td>\n",
       "      <td>1</td>\n",
       "      <td>37</td>\n",
       "    </tr>\n",
       "  </tbody>\n",
       "</table>\n",
       "</div>"
      ],
      "text/plain": [
       "     rain  snow  temp\n",
       "Jan     0     3    25\n",
       "Feb     0     1    38\n",
       "Mar     1     0    53\n",
       "Apr     2     0    62\n",
       "May     4     0    68\n",
       "Jun     5     0    75\n",
       "Jul     5     0    88\n",
       "Aug     4     0    82\n",
       "Sep     4     0    79\n",
       "Oct     3     0    64\n",
       "Nov     2     0    55\n",
       "Dec     1     1    37"
      ]
     },
     "execution_count": 44,
     "metadata": {},
     "output_type": "execute_result"
    }
   ],
   "source": [
    "months = ['Jan', 'Feb', 'Mar', 'Apr', 'May', 'Jun', 'Jul', 'Aug', 'Sep', 'Oct', 'Nov', 'Dec']\n",
    "weather_df.index = months\n",
    "weather_df"
   ]
  },
  {
   "cell_type": "markdown",
   "metadata": {},
   "source": [
    "This is where the fun begins.  Suppose I am only interested in the months that have snowfall.  I can simply use a boolean operator on a column of the `DataFrame`.  The result is a `Series` of `bool`."
   ]
  },
  {
   "cell_type": "code",
   "execution_count": 45,
   "metadata": {
    "collapsed": false
   },
   "outputs": [
    {
     "data": {
      "text/plain": [
       "Jan     True\n",
       "Feb     True\n",
       "Mar    False\n",
       "Apr    False\n",
       "May    False\n",
       "Jun    False\n",
       "Jul    False\n",
       "Aug    False\n",
       "Sep    False\n",
       "Oct    False\n",
       "Nov    False\n",
       "Dec     True\n",
       "Name: snow, dtype: bool"
      ]
     },
     "execution_count": 45,
     "metadata": {},
     "output_type": "execute_result"
    }
   ],
   "source": [
    "weather_df['snow'] > 0"
   ]
  },
  {
   "cell_type": "markdown",
   "metadata": {},
   "source": [
    "That `Series` can be used to filter the `DataFrame`."
   ]
  },
  {
   "cell_type": "code",
   "execution_count": 46,
   "metadata": {
    "collapsed": false
   },
   "outputs": [
    {
     "data": {
      "text/html": [
       "<div>\n",
       "<table border=\"1\" class=\"dataframe\">\n",
       "  <thead>\n",
       "    <tr style=\"text-align: right;\">\n",
       "      <th></th>\n",
       "      <th>rain</th>\n",
       "      <th>snow</th>\n",
       "      <th>temp</th>\n",
       "    </tr>\n",
       "  </thead>\n",
       "  <tbody>\n",
       "    <tr>\n",
       "      <th>Jan</th>\n",
       "      <td>0</td>\n",
       "      <td>3</td>\n",
       "      <td>25</td>\n",
       "    </tr>\n",
       "    <tr>\n",
       "      <th>Feb</th>\n",
       "      <td>0</td>\n",
       "      <td>1</td>\n",
       "      <td>38</td>\n",
       "    </tr>\n",
       "    <tr>\n",
       "      <th>Dec</th>\n",
       "      <td>1</td>\n",
       "      <td>1</td>\n",
       "      <td>37</td>\n",
       "    </tr>\n",
       "  </tbody>\n",
       "</table>\n",
       "</div>"
      ],
      "text/plain": [
       "     rain  snow  temp\n",
       "Jan     0     3    25\n",
       "Feb     0     1    38\n",
       "Dec     1     1    37"
      ]
     },
     "execution_count": 46,
     "metadata": {},
     "output_type": "execute_result"
    }
   ],
   "source": [
    "weather_df[weather_df['snow'] > 0]"
   ]
  },
  {
   "cell_type": "markdown",
   "metadata": {},
   "source": [
    "Since I'm only interested in the snowfall amounts, I might find it convenient to create a new `DataFrame` with only the `rain` and `temp` columns.  This is easy to do by filtering the original `DataFrame` with a `list` of column headers.  The result is a `DataFrame` which can then be filtered with the `Series` of `bool` that represents only the months that have snowfall."
   ]
  },
  {
   "cell_type": "code",
   "execution_count": 47,
   "metadata": {
    "collapsed": false,
    "scrolled": true
   },
   "outputs": [
    {
     "data": {
      "text/html": [
       "<div>\n",
       "<table border=\"1\" class=\"dataframe\">\n",
       "  <thead>\n",
       "    <tr style=\"text-align: right;\">\n",
       "      <th></th>\n",
       "      <th>snow</th>\n",
       "      <th>temp</th>\n",
       "    </tr>\n",
       "  </thead>\n",
       "  <tbody>\n",
       "    <tr>\n",
       "      <th>Jan</th>\n",
       "      <td>3</td>\n",
       "      <td>25</td>\n",
       "    </tr>\n",
       "    <tr>\n",
       "      <th>Feb</th>\n",
       "      <td>1</td>\n",
       "      <td>38</td>\n",
       "    </tr>\n",
       "    <tr>\n",
       "      <th>Dec</th>\n",
       "      <td>1</td>\n",
       "      <td>37</td>\n",
       "    </tr>\n",
       "  </tbody>\n",
       "</table>\n",
       "</div>"
      ],
      "text/plain": [
       "     snow  temp\n",
       "Jan     3    25\n",
       "Feb     1    38\n",
       "Dec     1    37"
      ]
     },
     "execution_count": 47,
     "metadata": {},
     "output_type": "execute_result"
    }
   ],
   "source": [
    "weather_df[['snow', 'temp']][weather_df['snow'] > 0]"
   ]
  },
  {
   "cell_type": "markdown",
   "metadata": {},
   "source": [
    "And that `DataFrame` can compute a summary using the `mean` function."
   ]
  },
  {
   "cell_type": "code",
   "execution_count": 48,
   "metadata": {
    "collapsed": false
   },
   "outputs": [
    {
     "data": {
      "text/plain": [
       "snow     1.666667\n",
       "temp    33.333333\n",
       "dtype: float64"
      ]
     },
     "execution_count": 48,
     "metadata": {},
     "output_type": "execute_result"
    }
   ],
   "source": [
    "weather_df[['snow', 'temp']][weather_df['snow'] > 0].mean()"
   ]
  },
  {
   "cell_type": "markdown",
   "metadata": {},
   "source": [
    "Finally, a `DataFrame` can be sorted by column.  The default is ascending order."
   ]
  },
  {
   "cell_type": "code",
   "execution_count": 49,
   "metadata": {
    "collapsed": false
   },
   "outputs": [
    {
     "data": {
      "text/html": [
       "<div>\n",
       "<table border=\"1\" class=\"dataframe\">\n",
       "  <thead>\n",
       "    <tr style=\"text-align: right;\">\n",
       "      <th></th>\n",
       "      <th>rain</th>\n",
       "      <th>snow</th>\n",
       "      <th>temp</th>\n",
       "    </tr>\n",
       "  </thead>\n",
       "  <tbody>\n",
       "    <tr>\n",
       "      <th>Jan</th>\n",
       "      <td>0</td>\n",
       "      <td>3</td>\n",
       "      <td>25</td>\n",
       "    </tr>\n",
       "    <tr>\n",
       "      <th>Dec</th>\n",
       "      <td>1</td>\n",
       "      <td>1</td>\n",
       "      <td>37</td>\n",
       "    </tr>\n",
       "    <tr>\n",
       "      <th>Feb</th>\n",
       "      <td>0</td>\n",
       "      <td>1</td>\n",
       "      <td>38</td>\n",
       "    </tr>\n",
       "    <tr>\n",
       "      <th>Mar</th>\n",
       "      <td>1</td>\n",
       "      <td>0</td>\n",
       "      <td>53</td>\n",
       "    </tr>\n",
       "    <tr>\n",
       "      <th>Nov</th>\n",
       "      <td>2</td>\n",
       "      <td>0</td>\n",
       "      <td>55</td>\n",
       "    </tr>\n",
       "    <tr>\n",
       "      <th>Apr</th>\n",
       "      <td>2</td>\n",
       "      <td>0</td>\n",
       "      <td>62</td>\n",
       "    </tr>\n",
       "    <tr>\n",
       "      <th>Oct</th>\n",
       "      <td>3</td>\n",
       "      <td>0</td>\n",
       "      <td>64</td>\n",
       "    </tr>\n",
       "    <tr>\n",
       "      <th>May</th>\n",
       "      <td>4</td>\n",
       "      <td>0</td>\n",
       "      <td>68</td>\n",
       "    </tr>\n",
       "    <tr>\n",
       "      <th>Jun</th>\n",
       "      <td>5</td>\n",
       "      <td>0</td>\n",
       "      <td>75</td>\n",
       "    </tr>\n",
       "    <tr>\n",
       "      <th>Sep</th>\n",
       "      <td>4</td>\n",
       "      <td>0</td>\n",
       "      <td>79</td>\n",
       "    </tr>\n",
       "    <tr>\n",
       "      <th>Aug</th>\n",
       "      <td>4</td>\n",
       "      <td>0</td>\n",
       "      <td>82</td>\n",
       "    </tr>\n",
       "    <tr>\n",
       "      <th>Jul</th>\n",
       "      <td>5</td>\n",
       "      <td>0</td>\n",
       "      <td>88</td>\n",
       "    </tr>\n",
       "  </tbody>\n",
       "</table>\n",
       "</div>"
      ],
      "text/plain": [
       "     rain  snow  temp\n",
       "Jan     0     3    25\n",
       "Dec     1     1    37\n",
       "Feb     0     1    38\n",
       "Mar     1     0    53\n",
       "Nov     2     0    55\n",
       "Apr     2     0    62\n",
       "Oct     3     0    64\n",
       "May     4     0    68\n",
       "Jun     5     0    75\n",
       "Sep     4     0    79\n",
       "Aug     4     0    82\n",
       "Jul     5     0    88"
      ]
     },
     "execution_count": 49,
     "metadata": {},
     "output_type": "execute_result"
    }
   ],
   "source": [
    "weather_df.sort_values(by=['temp'])"
   ]
  },
  {
   "cell_type": "markdown",
   "metadata": {},
   "source": [
    "To sort in descending order, use the `ascending` keyword argument with a value of `False`."
   ]
  },
  {
   "cell_type": "code",
   "execution_count": 50,
   "metadata": {
    "collapsed": false
   },
   "outputs": [
    {
     "data": {
      "text/html": [
       "<div>\n",
       "<table border=\"1\" class=\"dataframe\">\n",
       "  <thead>\n",
       "    <tr style=\"text-align: right;\">\n",
       "      <th></th>\n",
       "      <th>rain</th>\n",
       "      <th>snow</th>\n",
       "      <th>temp</th>\n",
       "    </tr>\n",
       "  </thead>\n",
       "  <tbody>\n",
       "    <tr>\n",
       "      <th>Jul</th>\n",
       "      <td>5</td>\n",
       "      <td>0</td>\n",
       "      <td>88</td>\n",
       "    </tr>\n",
       "    <tr>\n",
       "      <th>Aug</th>\n",
       "      <td>4</td>\n",
       "      <td>0</td>\n",
       "      <td>82</td>\n",
       "    </tr>\n",
       "    <tr>\n",
       "      <th>Sep</th>\n",
       "      <td>4</td>\n",
       "      <td>0</td>\n",
       "      <td>79</td>\n",
       "    </tr>\n",
       "    <tr>\n",
       "      <th>Jun</th>\n",
       "      <td>5</td>\n",
       "      <td>0</td>\n",
       "      <td>75</td>\n",
       "    </tr>\n",
       "    <tr>\n",
       "      <th>May</th>\n",
       "      <td>4</td>\n",
       "      <td>0</td>\n",
       "      <td>68</td>\n",
       "    </tr>\n",
       "    <tr>\n",
       "      <th>Oct</th>\n",
       "      <td>3</td>\n",
       "      <td>0</td>\n",
       "      <td>64</td>\n",
       "    </tr>\n",
       "    <tr>\n",
       "      <th>Apr</th>\n",
       "      <td>2</td>\n",
       "      <td>0</td>\n",
       "      <td>62</td>\n",
       "    </tr>\n",
       "    <tr>\n",
       "      <th>Nov</th>\n",
       "      <td>2</td>\n",
       "      <td>0</td>\n",
       "      <td>55</td>\n",
       "    </tr>\n",
       "    <tr>\n",
       "      <th>Mar</th>\n",
       "      <td>1</td>\n",
       "      <td>0</td>\n",
       "      <td>53</td>\n",
       "    </tr>\n",
       "    <tr>\n",
       "      <th>Feb</th>\n",
       "      <td>0</td>\n",
       "      <td>1</td>\n",
       "      <td>38</td>\n",
       "    </tr>\n",
       "    <tr>\n",
       "      <th>Dec</th>\n",
       "      <td>1</td>\n",
       "      <td>1</td>\n",
       "      <td>37</td>\n",
       "    </tr>\n",
       "    <tr>\n",
       "      <th>Jan</th>\n",
       "      <td>0</td>\n",
       "      <td>3</td>\n",
       "      <td>25</td>\n",
       "    </tr>\n",
       "  </tbody>\n",
       "</table>\n",
       "</div>"
      ],
      "text/plain": [
       "     rain  snow  temp\n",
       "Jul     5     0    88\n",
       "Aug     4     0    82\n",
       "Sep     4     0    79\n",
       "Jun     5     0    75\n",
       "May     4     0    68\n",
       "Oct     3     0    64\n",
       "Apr     2     0    62\n",
       "Nov     2     0    55\n",
       "Mar     1     0    53\n",
       "Feb     0     1    38\n",
       "Dec     1     1    37\n",
       "Jan     0     3    25"
      ]
     },
     "execution_count": 50,
     "metadata": {},
     "output_type": "execute_result"
    }
   ],
   "source": [
    "weather_df.sort_values(by=['temp'], ascending=False)"
   ]
  },
  {
   "cell_type": "markdown",
   "metadata": {
    "collapsed": true
   },
   "source": [
    "## Seaborn"
   ]
  },
  {
   "cell_type": "code",
   "execution_count": 51,
   "metadata": {
    "collapsed": true
   },
   "outputs": [],
   "source": [
    "import seaborn as sns"
   ]
  },
  {
   "cell_type": "markdown",
   "metadata": {},
   "source": [
    "The `seaborn` library wraps around `matplotlib` to allow easy access to many commonly used visualizations.  It also works quite well with a `pandas` `DataFrame`."
   ]
  },
  {
   "cell_type": "code",
   "execution_count": 52,
   "metadata": {
    "collapsed": false
   },
   "outputs": [],
   "source": [
    "x_values = np.random.choice(np.arange(500), size=100)\n",
    "y_values = np.random.choice(np.arange(500), size=100)\n",
    "df = pd.DataFrame(data = {'x': x_values, 'y': y_values})"
   ]
  },
  {
   "cell_type": "markdown",
   "metadata": {},
   "source": [
    "#### Scatterplot with regression line"
   ]
  },
  {
   "cell_type": "code",
   "execution_count": 53,
   "metadata": {
    "collapsed": false
   },
   "outputs": [
    {
     "data": {
      "text/plain": [
       "<seaborn.axisgrid.FacetGrid at 0x11a07dba8>"
      ]
     },
     "execution_count": 53,
     "metadata": {},
     "output_type": "execute_result"
    },
    {
     "data": {
      "image/png": "[encoded data removed]",
      "text/plain": [
       "<matplotlib.figure.Figure at 0x11a07dda0>"
      ]
     },
     "metadata": {},
     "output_type": "display_data"
    }
   ],
   "source": [
    "sns.lmplot('x', 'y', data=df)"
   ]
  },
  {
   "cell_type": "markdown",
   "metadata": {},
   "source": [
    "#### Distribution frequency"
   ]
  },
  {
   "cell_type": "code",
   "execution_count": null,
   "metadata": {
    "collapsed": false
   },
   "outputs": [],
   "source": [
    "sns.distplot(df.x)"
   ]
  },
  {
   "cell_type": "markdown",
   "metadata": {},
   "source": [
    "#### Boxplot (candlestick or box and whisker chart)"
   ]
  },
  {
   "cell_type": "code",
   "execution_count": 55,
   "metadata": {
    "collapsed": false
   },
   "outputs": [
    {
     "data": {
      "text/plain": [
       "<matplotlib.axes._subplots.AxesSubplot at 0x11a1d31d0>"
      ]
     },
     "execution_count": 55,
     "metadata": {},
     "output_type": "execute_result"
    },
    {
     "data": {
      "image/png": "[encoded data removed]",
      "text/plain": [
       "<matplotlib.figure.Figure at 0x11a389cc0>"
      ]
     },
     "metadata": {},
     "output_type": "display_data"
    }
   ],
   "source": [
    "sns.boxplot([df.x])"
   ]
  },
  {
   "cell_type": "markdown",
   "metadata": {},
   "source": [
    "#### Heatmap"
   ]
  },
  {
   "cell_type": "code",
   "execution_count": 56,
   "metadata": {
    "collapsed": false
   },
   "outputs": [
    {
     "data": {
      "text/plain": [
       "<matplotlib.axes._subplots.AxesSubplot at 0x11a148b38>"
      ]
     },
     "execution_count": 56,
     "metadata": {},
     "output_type": "execute_result"
    },
    {
     "data": {
      "image/png": "[encoded data removed]",
      "text/plain": [
       "<matplotlib.figure.Figure at 0x11a3bceb8>"
      ]
     },
     "metadata": {},
     "output_type": "display_data"
    }
   ],
   "source": [
    "sns.heatmap([df.x])"
   ]
  }
 ],
 "metadata": {
  "anaconda-cloud": {},
  "kernelspec": {
   "display_name": "Python [conda env:devspaceenv]",
   "language": "python",
   "name": "conda-env-devspaceenv-py"
  },
  "language_info": {
   "codemirror_mode": {
    "name": "ipython",
    "version": 3
   },
   "file_extension": ".py",
   "mimetype": "text/x-python",
   "name": "python",
   "nbconvert_exporter": "python",
   "pygments_lexer": "ipython3",
   "version": "3.5.2"
  },
  "widgets": {
   "state": {
    "2d493947cf2d43efa58dfd820587f016": {
     "views": [
      {
       "cell_index": 57
      }
     ]
    },
    "50b7cb04c4c44abb9906f2c87da5230f": {
     "views": [
      {
       "cell_index": 60
      }
     ]
    }
   },
   "version": "1.2.0"
  }
 },
 "nbformat": 4,
 "nbformat_minor": 1
}
